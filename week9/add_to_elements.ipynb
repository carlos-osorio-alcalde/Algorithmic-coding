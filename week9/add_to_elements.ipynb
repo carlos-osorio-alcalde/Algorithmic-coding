{
 "cells": [
  {
   "cell_type": "code",
   "execution_count": 1,
   "metadata": {},
   "outputs": [],
   "source": [
    "from typing import Optional\n",
    "\n",
    "# Definition for singly-linked list.\n",
    "class ListNode:\n",
    "    def __init__(self, val=0, next=None):\n",
    "        self.val = val\n",
    "        self.next = next\n",
    "\n",
    "class Solution:\n",
    "    def addTwoNumbers(self, l1: Optional[ListNode], l2: Optional[ListNode]) -> Optional[ListNode]:\n",
    "        vals_l1 = []\n",
    "        vals_l2 = []\n",
    "\n",
    "        while l1:\n",
    "            vals_l1.append(str(l1.val))\n",
    "            l1 = l1.next\n",
    "            \n",
    "        while l2:\n",
    "            vals_l2.append(str(l2.val))\n",
    "            l2 = l2.next\n",
    "            \n",
    "        \n",
    "        n1 = ''.join(vals_l1[::-1])\n",
    "        n2 = ''.join(vals_l2[::-1])\n",
    "\n",
    "        digits = str(int(n1) + int(n2))[::-1]\n",
    "\n",
    "        head = ListNode(int(digits[0]))\n",
    "        current = head\n",
    "\n",
    "        for value in digits[1:]:\n",
    "            current.next = ListNode(value)\n",
    "            current = current.next\n",
    "\n",
    "        return head"
   ]
  },
  {
   "cell_type": "code",
   "execution_count": null,
   "metadata": {},
   "outputs": [],
   "source": []
  }
 ],
 "metadata": {
  "kernelspec": {
   "display_name": "Python 3",
   "language": "python",
   "name": "python3"
  },
  "language_info": {
   "codemirror_mode": {
    "name": "ipython",
    "version": 3
   },
   "file_extension": ".py",
   "mimetype": "text/x-python",
   "name": "python",
   "nbconvert_exporter": "python",
   "pygments_lexer": "ipython3",
   "version": "3.11.3"
  },
  "orig_nbformat": 4
 },
 "nbformat": 4,
 "nbformat_minor": 2
}
