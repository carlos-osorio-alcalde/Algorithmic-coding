{
 "cells": [
  {
   "cell_type": "code",
   "execution_count": 62,
   "metadata": {},
   "outputs": [],
   "source": [
    "from typing import List\n",
    "\n",
    "class Solution:\n",
    "    def search(self, nums: List[int], target: int) -> int:\n",
    "        def fix_array(nums):\n",
    "            if nums[0] < nums[-1]:\n",
    "                return [], 0\n",
    "            \n",
    "            l = 0\n",
    "            r = len(nums) - 1\n",
    "\n",
    "            while l < r:\n",
    "                mid = (l + r)//2\n",
    "                if nums[mid] > nums[r]:\n",
    "                    l = mid + 1\n",
    "                elif nums[mid] < nums[l]:\n",
    "                    r = mid - 1\n",
    "                else:\n",
    "                    break\n",
    "\n",
    "            nums = nums[l:] + nums[:l]\n",
    "            return nums, l\n",
    "        \n",
    "        sorted_nums, index = fix_array(nums)\n",
    "        \n",
    "        l = 0\n",
    "        r = len(sorted_nums) - 1\n",
    "\n",
    "        while l <= r:\n",
    "            mid = (l + r)//2\n",
    "            if sorted_nums[mid] < target:\n",
    "                l = mid + 1\n",
    "            elif sorted_nums[mid] > target:\n",
    "                r = mid - 1\n",
    "            else:\n",
    "                return index + mid\n",
    "        \n",
    "        return -1"
   ]
  },
  {
   "cell_type": "code",
   "execution_count": 64,
   "metadata": {},
   "outputs": [],
   "source": [
    "nums = [3,1]\n",
    "target = 3\n",
    "def fix_array(nums):\n",
    "    if nums[0] < nums[-1]:\n",
    "        return [], 0\n",
    "    \n",
    "    l = 0\n",
    "    r = len(nums) - 1\n",
    "\n",
    "    while l < r:\n",
    "        mid = (l + r)//2\n",
    "        if nums[mid] > nums[r]:\n",
    "            l = mid + 1\n",
    "        elif nums[mid] < nums[l]:\n",
    "            r = mid - 1\n",
    "        else:\n",
    "            break\n",
    "\n",
    "    nums = nums[l:] + nums[:l]\n",
    "    return nums, l"
   ]
  }
 ],
 "metadata": {
  "kernelspec": {
   "display_name": "Python 3",
   "language": "python",
   "name": "python3"
  },
  "language_info": {
   "codemirror_mode": {
    "name": "ipython",
    "version": 3
   },
   "file_extension": ".py",
   "mimetype": "text/x-python",
   "name": "python",
   "nbconvert_exporter": "python",
   "pygments_lexer": "ipython3",
   "version": "3.11.3"
  },
  "orig_nbformat": 4
 },
 "nbformat": 4,
 "nbformat_minor": 2
}
