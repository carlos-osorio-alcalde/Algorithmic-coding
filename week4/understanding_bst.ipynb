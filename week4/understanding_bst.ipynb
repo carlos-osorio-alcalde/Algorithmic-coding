{
 "cells": [
  {
   "cell_type": "code",
   "execution_count": 22,
   "metadata": {},
   "outputs": [],
   "source": [
    "# Node of a tree\n",
    "class Node:\n",
    "    def __init__(self, v):\n",
    "        self.left = None\n",
    "        self.right = None\n",
    "        self.data = v\n",
    " \n",
    "# Inorder Traversal\n",
    "def print_in_order(root):\n",
    "    if root is not None:\n",
    "        print(\"current_node: \", root.data)\n",
    "        # Traverse left subtree\n",
    "        print_in_order(root.left)\n",
    "         \n",
    "        # Visit node\n",
    "        print(root.data)\n",
    "         \n",
    "        # Traverse right subtree\n",
    "        print_in_order(root.right)"
   ]
  },
  {
   "cell_type": "code",
   "execution_count": 23,
   "metadata": {},
   "outputs": [
    {
     "name": "stdout",
     "output_type": "stream",
     "text": [
      "current_node:  100\n",
      "current_node:  20\n",
      "current_node:  10\n",
      "current_node:  5\n",
      "5\n",
      "10\n",
      "20\n",
      "current_node:  30\n",
      "30\n",
      "100\n",
      "current_node:  200\n",
      "current_node:  150\n",
      "150\n",
      "200\n",
      "current_node:  300\n",
      "300\n"
     ]
    }
   ],
   "source": [
    "# Build the tree\n",
    "root = Node(100)\n",
    "root.left = Node(20)\n",
    "root.right = Node(200)\n",
    "root.left.left = Node(10)\n",
    "root.left.left.left = Node(5)\n",
    "root.left.right = Node(30)\n",
    "root.right.left = Node(150)\n",
    "root.right.right = Node(300)\n",
    "\n",
    "print_in_order(root)"
   ]
  },
  {
   "cell_type": "code",
   "execution_count": null,
   "metadata": {},
   "outputs": [],
   "source": [
    "print_in_order(root)"
   ]
  },
  {
   "cell_type": "code",
   "execution_count": null,
   "metadata": {},
   "outputs": [],
   "source": []
  }
 ],
 "metadata": {
  "kernelspec": {
   "display_name": "Python 3",
   "language": "python",
   "name": "python3"
  },
  "language_info": {
   "codemirror_mode": {
    "name": "ipython",
    "version": 3
   },
   "file_extension": ".py",
   "mimetype": "text/x-python",
   "name": "python",
   "nbconvert_exporter": "python",
   "pygments_lexer": "ipython3",
   "version": "3.11.3"
  },
  "orig_nbformat": 4
 },
 "nbformat": 4,
 "nbformat_minor": 2
}
