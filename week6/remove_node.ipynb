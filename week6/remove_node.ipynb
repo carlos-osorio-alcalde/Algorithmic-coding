{
 "cells": [
  {
   "cell_type": "code",
   "execution_count": 7,
   "metadata": {},
   "outputs": [],
   "source": [
    "# remove_node from linked list\n",
    "# https://leetcode.com/problems/remove-nth-node-from-end-of-list/\n",
    "\n",
    "class ListNode:\n",
    "    def __init__(self, val=0, next=None):\n",
    "        self.next = next\n",
    "        self.val = val"
   ]
  },
  {
   "cell_type": "code",
   "execution_count": 13,
   "metadata": {},
   "outputs": [],
   "source": [
    "from typing import Optional\n",
    "\n",
    "class Solution:\n",
    "    def removeNthFromEnd(self, head: Optional[ListNode], n: int) -> Optional[ListNode]:\n",
    "        def get_length(head):\n",
    "            lenght = 0\n",
    "            while head:\n",
    "                lenght += 1\n",
    "                head = head.next\n",
    "            return lenght\n",
    "\n",
    "        len_linked_list = get_length(head)\n",
    "        obj = len_linked_list - n\n",
    "        idx_node = 0\n",
    "\n",
    "        if obj == 0 and head.next:\n",
    "            head = head.next\n",
    "            return head\n",
    "        \n",
    "        def traverse(head):\n",
    "            nonlocal idx_node\n",
    "            if idx_node == obj-1:\n",
    "                head.next = head.next.next\n",
    "                return head\n",
    "            idx_node += 1\n",
    "            head.next = traverse(head.next)\n",
    "            return head\n",
    "        \n",
    "        return traverse(head)"
   ]
  },
  {
   "cell_type": "code",
   "execution_count": 12,
   "metadata": {},
   "outputs": [
    {
     "name": "stdout",
     "output_type": "stream",
     "text": [
      "0\n",
      "1\n",
      "2\n",
      "3\n"
     ]
    }
   ],
   "source": [
    "head = ListNode(1)\n",
    "head.next = ListNode(2)\n",
    "head.next.next = ListNode(3)\n",
    "head.next.next.next = ListNode(4)\n",
    "\n",
    "Solution().removeNthFromEnd(head, 1)"
   ]
  },
  {
   "cell_type": "code",
   "execution_count": null,
   "metadata": {},
   "outputs": [],
   "source": []
  }
 ],
 "metadata": {
  "kernelspec": {
   "display_name": "Python 3",
   "language": "python",
   "name": "python3"
  },
  "language_info": {
   "codemirror_mode": {
    "name": "ipython",
    "version": 3
   },
   "file_extension": ".py",
   "mimetype": "text/x-python",
   "name": "python",
   "nbconvert_exporter": "python",
   "pygments_lexer": "ipython3",
   "version": "3.11.3"
  },
  "orig_nbformat": 4
 },
 "nbformat": 4,
 "nbformat_minor": 2
}
