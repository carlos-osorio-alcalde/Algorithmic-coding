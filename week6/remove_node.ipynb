{
 "cells": [
  {
   "cell_type": "code",
   "execution_count": 7,
   "metadata": {},
   "outputs": [],
   "source": [
    "# remove_node from linked list\n",
    "# https://leetcode.com/problems/remove-nth-node-from-end-of-list/\n",
    "\n",
    "class ListNode:\n",
    "    def __init__(self, val=0, next=None):\n",
    "        self.next = next\n",
    "        self.val = val"
   ]
  },
  {
   "cell_type": "code",
   "execution_count": 13,
   "metadata": {},
   "outputs": [],
   "source": [
    "from typing import Optional\n",
    "\n",
    "class Solution:\n",
    "    def removeNthFromEnd(self, head: Optional[ListNode], n: int) -> Optional[ListNode]:\n",
    "        def get_length(head):\n",
    "            lenght = 0\n",
    "            while head:\n",
    "                lenght += 1\n",
    "                head = head.next\n",
    "            return lenght\n",
    "\n",
    "        len_linked_list = get_length(head)\n",
    "        obj = len_linked_list - n\n",
    "        idx_node = 0\n",
    "\n",
    "        if obj == 0 and head.next:\n",
    "            head = head.next\n",
    "            return head\n",
    "        \n",
    "        def traverse(head):\n",
    "            nonlocal idx_node\n",
    "            if idx_node == obj-1:\n",
    "                head.next = head.next.next\n",
    "                return head\n",
    "            idx_node += 1\n",
    "            head.next = traverse(head.next)\n",
    "            return head\n",
    "        \n",
    "        return traverse(head)"
   ]
  },
  {
   "cell_type": "code",
   "execution_count": 15,
   "metadata": {},
   "outputs": [
    {
     "ename": "AttributeError",
     "evalue": "'NoneType' object has no attribute 'next'",
     "output_type": "error",
     "traceback": [
      "\u001b[0;31m---------------------------------------------------------------------------\u001b[0m",
      "\u001b[0;31mAttributeError\u001b[0m                            Traceback (most recent call last)",
      "Cell \u001b[0;32mIn[15], line 3\u001b[0m\n\u001b[1;32m      1\u001b[0m head \u001b[39m=\u001b[39m ListNode(\u001b[39m1\u001b[39m)\n\u001b[0;32m----> 3\u001b[0m Solution()\u001b[39m.\u001b[39;49mremoveNthFromEnd(head, \u001b[39m1\u001b[39;49m)\n",
      "Cell \u001b[0;32mIn[13], line 29\u001b[0m, in \u001b[0;36mSolution.removeNthFromEnd\u001b[0;34m(self, head, n)\u001b[0m\n\u001b[1;32m     26\u001b[0m     head\u001b[39m.\u001b[39mnext \u001b[39m=\u001b[39m traverse(head\u001b[39m.\u001b[39mnext)\n\u001b[1;32m     27\u001b[0m     \u001b[39mreturn\u001b[39;00m head\n\u001b[0;32m---> 29\u001b[0m \u001b[39mreturn\u001b[39;00m traverse(head)\n",
      "Cell \u001b[0;32mIn[13], line 26\u001b[0m, in \u001b[0;36mSolution.removeNthFromEnd.<locals>.traverse\u001b[0;34m(head)\u001b[0m\n\u001b[1;32m     24\u001b[0m     \u001b[39mreturn\u001b[39;00m head\n\u001b[1;32m     25\u001b[0m idx_node \u001b[39m+\u001b[39m\u001b[39m=\u001b[39m \u001b[39m1\u001b[39m\n\u001b[0;32m---> 26\u001b[0m head\u001b[39m.\u001b[39mnext \u001b[39m=\u001b[39m traverse(head\u001b[39m.\u001b[39;49mnext)\n\u001b[1;32m     27\u001b[0m \u001b[39mreturn\u001b[39;00m head\n",
      "Cell \u001b[0;32mIn[13], line 26\u001b[0m, in \u001b[0;36mSolution.removeNthFromEnd.<locals>.traverse\u001b[0;34m(head)\u001b[0m\n\u001b[1;32m     24\u001b[0m     \u001b[39mreturn\u001b[39;00m head\n\u001b[1;32m     25\u001b[0m idx_node \u001b[39m+\u001b[39m\u001b[39m=\u001b[39m \u001b[39m1\u001b[39m\n\u001b[0;32m---> 26\u001b[0m head\u001b[39m.\u001b[39mnext \u001b[39m=\u001b[39m traverse(head\u001b[39m.\u001b[39;49mnext)\n\u001b[1;32m     27\u001b[0m \u001b[39mreturn\u001b[39;00m head\n",
      "\u001b[0;31mAttributeError\u001b[0m: 'NoneType' object has no attribute 'next'"
     ]
    }
   ],
   "source": [
    "head = ListNode(1)\n",
    "\n",
    "Solution().removeNthFromEnd(head, 1)"
   ]
  },
  {
   "cell_type": "code",
   "execution_count": null,
   "metadata": {},
   "outputs": [],
   "source": []
  }
 ],
 "metadata": {
  "kernelspec": {
   "display_name": "Python 3",
   "language": "python",
   "name": "python3"
  },
  "language_info": {
   "codemirror_mode": {
    "name": "ipython",
    "version": 3
   },
   "file_extension": ".py",
   "mimetype": "text/x-python",
   "name": "python",
   "nbconvert_exporter": "python",
   "pygments_lexer": "ipython3",
   "version": "3.11.3"
  },
  "orig_nbformat": 4
 },
 "nbformat": 4,
 "nbformat_minor": 2
}
