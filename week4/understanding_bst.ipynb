{
 "cells": [
  {
   "cell_type": "code",
   "execution_count": 22,
   "metadata": {},
   "outputs": [],
   "source": [
    "# Node of a tree\n",
    "class Node:\n",
    "    def __init__(self, v):\n",
    "        self.left = None\n",
    "        self.right = None\n",
    "        self.data = v\n",
    " \n",
    "# Inorder Traversal\n",
    "def print_in_order(root):\n",
    "    if root is not None:\n",
    "        print(\"current_node: \", root.data)\n",
    "        # Traverse left subtree\n",
    "        print_in_order(root.left)\n",
    "         \n",
    "        # Visit node\n",
    "        print(root.data)\n",
    "         \n",
    "        # Traverse right subtree\n",
    "        print_in_order(root.right)"
   ]
  },
  {
   "cell_type": "code",
   "execution_count": 23,
   "metadata": {},
   "outputs": [
    {
     "name": "stdout",
     "output_type": "stream",
     "text": [
      "current_node:  100\n",
      "current_node:  20\n",
      "current_node:  10\n",
      "current_node:  5\n",
      "5\n",
      "10\n",
      "20\n",
      "current_node:  30\n",
      "30\n",
      "100\n",
      "current_node:  200\n",
      "current_node:  150\n",
      "150\n",
      "200\n",
      "current_node:  300\n",
      "300\n"
     ]
    }
   ],
   "source": [
    "# Build the tree\n",
    "root = Node(100)\n",
    "root.left = Node(20)\n",
    "root.right = Node(200)\n",
    "root.left.left = Node(10)\n",
    "root.left.left.left = Node(5)\n",
    "root.left.right = Node(30)\n",
    "root.right.left = Node(150)\n",
    "root.right.right = Node(300)\n",
    "\n",
    "print_in_order(root)"
   ]
  },
  {
   "cell_type": "code",
   "execution_count": null,
   "metadata": {},
   "outputs": [],
   "source": [
    "print_in_order(root)"
   ]
  },
  {
   "attachments": {},
   "cell_type": "markdown",
   "metadata": {},
   "source": [
    "# Unique Binary Search Tree"
   ]
  },
  {
   "cell_type": "code",
   "execution_count": 7,
   "metadata": {},
   "outputs": [],
   "source": [
    "# Definition for a binary tree node.\n",
    "class TreeNode(object):\n",
    "    def __init__(self, val=0, left=None, right=None):\n",
    "        self.val = val\n",
    "        self.left = left\n",
    "        self.right = right\n",
    "\n",
    "class Solution(object):\n",
    "    def generateTrees(self, n):\n",
    "        \"\"\"\n",
    "        :type n: int\n",
    "        :rtype: List[TreeNode]\n",
    "        \"\"\"\n",
    "        def generate_trees(start, end):\n",
    "            if start > end:\n",
    "                return [None]\n",
    "\n",
    "            trees = []\n",
    "            for i in range(start, end + 1):\n",
    "                left_subtrees = generate_trees(start, i - 1)\n",
    "                right_subtrees = generate_trees(i + 1, end)\n",
    "\n",
    "                for left in left_subtrees:\n",
    "                    for right in right_subtrees:\n",
    "                        root = TreeNode(i)\n",
    "                        root.left = left\n",
    "                        root.right = right\n",
    "                        trees.append(root)\n",
    "\n",
    "            return trees\n",
    "\n",
    "        return generate_trees(1, n) if n > 0 else []"
   ]
  },
  {
   "cell_type": "code",
   "execution_count": 8,
   "metadata": {},
   "outputs": [
    {
     "data": {
      "text/plain": [
       "[<__main__.TreeNode at 0x1050da390>,\n",
       " <__main__.TreeNode at 0x1050da3d0>,\n",
       " <__main__.TreeNode at 0x1050daa90>,\n",
       " <__main__.TreeNode at 0x1050d8350>,\n",
       " <__main__.TreeNode at 0x1050da010>]"
      ]
     },
     "execution_count": 8,
     "metadata": {},
     "output_type": "execute_result"
    }
   ],
   "source": [
    "Solution().generateTrees(3)"
   ]
  },
  {
   "attachments": {},
   "cell_type": "markdown",
   "metadata": {},
   "source": [
    "# Are the same tree?"
   ]
  },
  {
   "cell_type": "code",
   "execution_count": 54,
   "metadata": {},
   "outputs": [],
   "source": [
    "# Definition for a binary tree node.\n",
    "class TreeNode(object):\n",
    "    def __init__(self, val=0, left=None, right=None):\n",
    "        self.val = val\n",
    "        self.left = left\n",
    "        self.right = right\n",
    "\n",
    "class Solution(object):\n",
    "    def isSameTree(self, p, q):\n",
    "        \"\"\"\n",
    "        :type p: TreeNode\n",
    "        :type q: TreeNode\n",
    "        :rtype: bool\n",
    "        \"\"\"\n",
    "        def check_the_same(p, q):\n",
    "            if not p and not q:\n",
    "                return True\n",
    "            \n",
    "            if (not p and q) or (p and not q):\n",
    "                return False\n",
    "            \n",
    "            return check_the_same(p.left, q.left) and check_the_same(p.right, q.right) and p.val == q.val\n",
    "\n",
    "        return check_the_same(p, q)"
   ]
  },
  {
   "cell_type": "code",
   "execution_count": 59,
   "metadata": {},
   "outputs": [],
   "source": [
    "# Definition of q tree\n",
    "q = TreeNode(1)\n",
    "q.left = TreeNode(3)\n",
    "q.right = TreeNode(9)\n",
    "\n",
    "# Definition of p tree\n",
    "p = TreeNode(1)\n",
    "p.left = TreeNode(3)\n",
    "p.right = TreeNode(4)"
   ]
  },
  {
   "cell_type": "code",
   "execution_count": 60,
   "metadata": {},
   "outputs": [
    {
     "data": {
      "text/plain": [
       "False"
      ]
     },
     "execution_count": 60,
     "metadata": {},
     "output_type": "execute_result"
    }
   ],
   "source": [
    "Solution().isSameTree(p, q)"
   ]
  },
  {
   "attachments": {},
   "cell_type": "markdown",
   "metadata": {},
   "source": [
    "# It is symmetric?"
   ]
  },
  {
   "cell_type": "code",
   "execution_count": 62,
   "metadata": {},
   "outputs": [],
   "source": [
    "# Definition for a binary tree node.\n",
    "class TreeNode(object):\n",
    "    def __init__(self, val=0, left=None, right=None):\n",
    "        self.val = val\n",
    "        self.left = left\n",
    "        self.right = right\n",
    "        \n",
    "class Solution(object):\n",
    "    def isSymmetric(self, p):\n",
    "        \"\"\"\n",
    "        :type p: TreeNode\n",
    "        :rtype: bool\n",
    "        \"\"\"\n",
    "        if not p:\n",
    "            return True\n",
    "        \n",
    "        def check_symmetric(p_left, p_right):\n",
    "            if not p_left and not p_right:\n",
    "                return True\n",
    "            \n",
    "            if (not p_left and p_right) or (p_left and not p_right):\n",
    "                return False\n",
    "            \n",
    "            return check_symmetric(p_left.left, p_right.right) and check_symmetric(p_left.right, p_right.left) and p_left.val == p_right.val\n",
    "        \n",
    "        return check_symmetric(p.left, p.right)"
   ]
  },
  {
   "attachments": {},
   "cell_type": "markdown",
   "metadata": {},
   "source": [
    "# Minimum depth"
   ]
  },
  {
   "cell_type": "code",
   "execution_count": 92,
   "metadata": {},
   "outputs": [],
   "source": [
    "# Definition for a binary tree node.\n",
    "class TreeNode(object):\n",
    "    def __init__(self, val=0, left=None, right=None):\n",
    "        self.val = val\n",
    "        self.left = left\n",
    "        self.right = right\n",
    "\n",
    "class Solution(object):\n",
    "    def minDepth(self, root):\n",
    "        \"\"\"\n",
    "        :type root: TreeNode\n",
    "        :rtype: int\n",
    "        \"\"\"\n",
    "        def get_min_depth(node):\n",
    "            print('v',node.val)\n",
    "\n",
    "            if not node:\n",
    "                return 0\n",
    "            \n",
    "            if not node.left and not node.right:\n",
    "                return 1\n",
    "\n",
    "            if node.left:\n",
    "                return get_min_depth(node.left) + 1\n",
    "            \n",
    "            if node.right:\n",
    "                return get_min_depth(node.right) + 1\n",
    "        \n",
    "            return min(get_min_depth(node.left), get_min_depth(node.right)) + 1\n",
    "        \n",
    "        return get_min_depth(root)\n"
   ]
  },
  {
   "cell_type": "code",
   "execution_count": 93,
   "metadata": {},
   "outputs": [
    {
     "name": "stdout",
     "output_type": "stream",
     "text": [
      "v 1\n",
      "v 2\n",
      "v 4\n"
     ]
    },
    {
     "data": {
      "text/plain": [
       "3"
      ]
     },
     "execution_count": 93,
     "metadata": {},
     "output_type": "execute_result"
    }
   ],
   "source": [
    "root = TreeNode(1)\n",
    "root.left = TreeNode(2)\n",
    "root.right = TreeNode(3)\n",
    "root.left.left = TreeNode(4)\n",
    "root.left.right = TreeNode(5)\n",
    "\n",
    "Solution().minDepth(root)"
   ]
  },
  {
   "cell_type": "code",
   "execution_count": null,
   "metadata": {},
   "outputs": [],
   "source": []
  }
 ],
 "metadata": {
  "kernelspec": {
   "display_name": "Python 3",
   "language": "python",
   "name": "python3"
  },
  "language_info": {
   "codemirror_mode": {
    "name": "ipython",
    "version": 3
   },
   "file_extension": ".py",
   "mimetype": "text/x-python",
   "name": "python",
   "nbconvert_exporter": "python",
   "pygments_lexer": "ipython3",
   "version": "3.11.3"
  },
  "orig_nbformat": 4
 },
 "nbformat": 4,
 "nbformat_minor": 2
}
