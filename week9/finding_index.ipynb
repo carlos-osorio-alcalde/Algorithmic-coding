{
 "cells": [
  {
   "cell_type": "code",
   "execution_count": null,
   "metadata": {},
   "outputs": [],
   "source": [
    "class Solution:\n",
    "    def strStr(self, haystack: str, needle: str) -> int:\n",
    "        for idx in range(len(haystack)):\n",
    "            if haystack[idx:idx+len(needle)] == needle:\n",
    "                return idx\n",
    "        \n",
    "        return -1\n"
   ]
  }
 ],
 "metadata": {
  "language_info": {
   "name": "python"
  },
  "orig_nbformat": 4
 },
 "nbformat": 4,
 "nbformat_minor": 2
}
