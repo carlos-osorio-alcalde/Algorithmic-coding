{
 "cells": [
  {
   "cell_type": "code",
   "execution_count": 108,
   "metadata": {},
   "outputs": [],
   "source": [
    "from typing import List\n",
    "\n",
    "class Solution:\n",
    "    def merge(self, nums1: List[int], m: int, nums2: List[int], n: int) -> None:\n",
    "        \"\"\"\n",
    "        Do not return anything, modify nums1 in-place instead.\n",
    "        \"\"\"\n",
    "        l = m - 1\n",
    "        r = n - 1\n",
    "        i = m + n - 1\n",
    "\n",
    "        while l >= 0 and r >= 0:\n",
    "            if nums1[l] > nums2[r]:\n",
    "                nums1[i] = nums1[l]\n",
    "                l -= 1\n",
    "            else:\n",
    "                nums1[i] = nums2[r]\n",
    "                r -= 1\n",
    "            i -= 1\n",
    "\n",
    "        while r >= 0:\n",
    "            nums1[i] = nums2[r]\n",
    "            r -= 1\n",
    "            i -= 1\n",
    "        print(nums1)"
   ]
  },
  {
   "cell_type": "code",
   "execution_count": 109,
   "metadata": {},
   "outputs": [
    {
     "name": "stdout",
     "output_type": "stream",
     "text": [
      "[3, 5, 7, 10, 11, 12, 14, 15, 19, 25, 32]\n"
     ]
    }
   ],
   "source": [
    "nums1 = [5, 7, 10, 12, 19, 25, 32, 0, 0, 0, 0]\n",
    "m = 7\n",
    "nums2 = [3, 11, 14, 15, 26]\n",
    "n = 4\n",
    "\n",
    "s = Solution()\n",
    "s.merge(nums1, m, nums2, n)"
   ]
  },
  {
   "cell_type": "code",
   "execution_count": null,
   "metadata": {},
   "outputs": [],
   "source": []
  }
 ],
 "metadata": {
  "kernelspec": {
   "display_name": "Python 3",
   "language": "python",
   "name": "python3"
  },
  "language_info": {
   "codemirror_mode": {
    "name": "ipython",
    "version": 3
   },
   "file_extension": ".py",
   "mimetype": "text/x-python",
   "name": "python",
   "nbconvert_exporter": "python",
   "pygments_lexer": "ipython3",
   "version": "3.11.3"
  },
  "orig_nbformat": 4
 },
 "nbformat": 4,
 "nbformat_minor": 2
}
